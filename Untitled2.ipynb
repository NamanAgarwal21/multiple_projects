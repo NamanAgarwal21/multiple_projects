{
 "cells": [
  {
   "cell_type": "code",
   "execution_count": 1,
   "id": "4cb5894f",
   "metadata": {},
   "outputs": [],
   "source": [
    "a=\"abccdde\""
   ]
  },
  {
   "cell_type": "code",
   "execution_count": 3,
   "id": "f51430c6",
   "metadata": {},
   "outputs": [],
   "source": [
    "x=set(a)"
   ]
  },
  {
   "cell_type": "code",
   "execution_count": 5,
   "id": "74cc5be2",
   "metadata": {},
   "outputs": [
    {
     "name": "stdout",
     "output_type": "stream",
     "text": [
      "acdbe\n"
     ]
    }
   ],
   "source": [
    "s=''.join(x)\n",
    "print(s)"
   ]
  }
 ],
 "metadata": {
  "kernelspec": {
   "display_name": "Python 3 (ipykernel)",
   "language": "python",
   "name": "python3"
  },
  "language_info": {
   "codemirror_mode": {
    "name": "ipython",
    "version": 3
   },
   "file_extension": ".py",
   "mimetype": "text/x-python",
   "name": "python",
   "nbconvert_exporter": "python",
   "pygments_lexer": "ipython3",
   "version": "3.10.9"
  }
 },
 "nbformat": 4,
 "nbformat_minor": 5
}
