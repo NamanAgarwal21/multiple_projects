{
 "cells": [
  {
   "cell_type": "code",
   "execution_count": 22,
   "id": "6d66c781",
   "metadata": {},
   "outputs": [],
   "source": [
    "price = [2,3,1,5,9]\n",
    "\n",
    "profit = [1,2,6,1,5]"
   ]
  },
  {
   "cell_type": "code",
   "execution_count": 23,
   "id": "cf35afe6",
   "metadata": {},
   "outputs": [
    {
     "name": "stdout",
     "output_type": "stream",
     "text": [
      "--- 1\n",
      "--- 2\n",
      "--- 3\n",
      "*****************************\n",
      "-1\n",
      "6 1 5\n",
      "Maximum Profit: 12\n"
     ]
    }
   ],
   "source": [
    "def max_stock_profit(price, profit):\n",
    "    n = len(price)\n",
    "    max_profit = -1\n",
    "\n",
    "    max_profit_left = [0] * n\n",
    "    max_profit_right = [0] * n\n",
    "\n",
    "    # Calculate maximum profit from left to right\n",
    "    max_profit_left[0] = profit[0]\n",
    "    for i in range(1, n):\n",
    "        max_profit_left[i] = max(max_profit_left[i - 1], profit[i])\n",
    "\n",
    "    # Calculate maximum profit from right to left\n",
    "    max_profit_right[n - 1] = profit[n - 1]\n",
    "    for i in range(n - 2, -1, -1):\n",
    "        max_profit_right[i] = max(max_profit_right[i + 1], profit[i])\n",
    "\n",
    "    # Find the maximum total profit with condition i < j < k\n",
    "    for j in range(1, n - 1):\n",
    "        print('---',j)\n",
    "        if price[j+1]>price[j] > price[j - 1]:\n",
    "            print('*****************************')\n",
    "            print(max_profit)\n",
    "            print(max_profit_left[j - 1] ,profit[j] ,max_profit_right[j + 1])\n",
    "            max_profit = max(max_profit, max_profit_left[j - 1] + profit[j] + max_profit_right[j + 1])\n",
    "\n",
    "    return max_profit\n",
    "\n",
    "# Example usage\n",
    "# price = [3, 1, 4, 6, 5]\n",
    "# profit = [1, 5, 8, 2, 4]\n",
    "result = max_stock_profit(price, profit)\n",
    "print(\"Maximum Profit:\", result)  # Output: 15\n"
   ]
  },
  {
   "cell_type": "code",
   "execution_count": 6,
   "id": "f9145826",
   "metadata": {},
   "outputs": [
    {
     "name": "stdout",
     "output_type": "stream",
     "text": [
      "[0, 2, 0, 0, 0]\n",
      "[0, 2, 0, 0, 0]\n",
      "[0, 2, 0, 0, 0]\n",
      "[0, 2, 0, 1, 0]\n",
      "[0, 2, 0, 3, 0]\n",
      "[0, 2, 0, 3, 0]\n",
      "[0, 2, 0, 3, 5]\n",
      "[0, 2, 0, 3, 7]\n",
      "[0, 2, 0, 3, 7]\n",
      "[0, 2, 0, 3, 8]\n",
      "Maximum Profit: 8\n"
     ]
    }
   ],
   "source": [
    "max_profit = 0\n",
    "\n",
    "# Initialize maximum profit for each day considering only itself\n",
    "max_profit_for_day = [0] * len(price)\n",
    "\n",
    "for j in range(1, len(price)):\n",
    "    for i in range(j):\n",
    "        if price[j] > price[i]:\n",
    "            max_profit_for_day[j] = max(max_profit_for_day[j], profit[j] + max_profit_for_day[i])\n",
    "\n",
    "        print(max_profit_for_day)\n",
    "\n",
    "max_profit = max(max_profit_for_day)\n",
    "\n",
    "print(\"Maximum Profit:\", max_profit)"
   ]
  },
  {
   "cell_type": "code",
   "execution_count": 30,
   "id": "bd3788ab",
   "metadata": {},
   "outputs": [
    {
     "ename": "RecursionError",
     "evalue": "maximum recursion depth exceeded",
     "output_type": "error",
     "traceback": [
      "\u001b[1;31m---------------------------------------------------------------------------\u001b[0m",
      "\u001b[1;31mRecursionError\u001b[0m                            Traceback (most recent call last)",
      "Cell \u001b[1;32mIn[30], line 12\u001b[0m\n\u001b[0;32m      8\u001b[0m         obj\u001b[38;5;241m=\u001b[39mB(\u001b[38;5;241m100\u001b[39m)\n\u001b[0;32m      9\u001b[0m         \u001b[38;5;28mprint\u001b[39m(\u001b[38;5;124m\"\u001b[39m\u001b[38;5;132;01m%d\u001b[39;00m\u001b[38;5;124m \u001b[39m\u001b[38;5;132;01m%d\u001b[39;00m\u001b[38;5;124m\"\u001b[39m \u001b[38;5;241m%\u001b[39m(obj\u001b[38;5;241m.\u001b[39ma1,obj\u001b[38;5;241m.\u001b[39mb1))\n\u001b[1;32m---> 12\u001b[0m \u001b[43mB\u001b[49m\u001b[43m(\u001b[49m\u001b[38;5;241;43m1\u001b[39;49m\u001b[43m)\u001b[49m\n",
      "Cell \u001b[1;32mIn[30], line 8\u001b[0m, in \u001b[0;36mB.__init__\u001b[1;34m(self, param)\u001b[0m\n\u001b[0;32m      5\u001b[0m \u001b[38;5;28;01mdef\u001b[39;00m \u001b[38;5;21m__init__\u001b[39m(\u001b[38;5;28mself\u001b[39m,param):\n\u001b[0;32m      6\u001b[0m     \u001b[38;5;28mself\u001b[39m\u001b[38;5;241m.\u001b[39mb1\u001b[38;5;241m=\u001b[39mparam\n\u001b[1;32m----> 8\u001b[0m     obj\u001b[38;5;241m=\u001b[39m\u001b[43mB\u001b[49m\u001b[43m(\u001b[49m\u001b[38;5;241;43m100\u001b[39;49m\u001b[43m)\u001b[49m\n\u001b[0;32m      9\u001b[0m     \u001b[38;5;28mprint\u001b[39m(\u001b[38;5;124m\"\u001b[39m\u001b[38;5;132;01m%d\u001b[39;00m\u001b[38;5;124m \u001b[39m\u001b[38;5;132;01m%d\u001b[39;00m\u001b[38;5;124m\"\u001b[39m \u001b[38;5;241m%\u001b[39m(obj\u001b[38;5;241m.\u001b[39ma1,obj\u001b[38;5;241m.\u001b[39mb1))\n",
      "Cell \u001b[1;32mIn[30], line 8\u001b[0m, in \u001b[0;36mB.__init__\u001b[1;34m(self, param)\u001b[0m\n\u001b[0;32m      5\u001b[0m \u001b[38;5;28;01mdef\u001b[39;00m \u001b[38;5;21m__init__\u001b[39m(\u001b[38;5;28mself\u001b[39m,param):\n\u001b[0;32m      6\u001b[0m     \u001b[38;5;28mself\u001b[39m\u001b[38;5;241m.\u001b[39mb1\u001b[38;5;241m=\u001b[39mparam\n\u001b[1;32m----> 8\u001b[0m     obj\u001b[38;5;241m=\u001b[39m\u001b[43mB\u001b[49m\u001b[43m(\u001b[49m\u001b[38;5;241;43m100\u001b[39;49m\u001b[43m)\u001b[49m\n\u001b[0;32m      9\u001b[0m     \u001b[38;5;28mprint\u001b[39m(\u001b[38;5;124m\"\u001b[39m\u001b[38;5;132;01m%d\u001b[39;00m\u001b[38;5;124m \u001b[39m\u001b[38;5;132;01m%d\u001b[39;00m\u001b[38;5;124m\"\u001b[39m \u001b[38;5;241m%\u001b[39m(obj\u001b[38;5;241m.\u001b[39ma1,obj\u001b[38;5;241m.\u001b[39mb1))\n",
      "    \u001b[1;31m[... skipping similar frames: B.__init__ at line 8 (1483 times)]\u001b[0m\n",
      "Cell \u001b[1;32mIn[30], line 8\u001b[0m, in \u001b[0;36mB.__init__\u001b[1;34m(self, param)\u001b[0m\n\u001b[0;32m      5\u001b[0m \u001b[38;5;28;01mdef\u001b[39;00m \u001b[38;5;21m__init__\u001b[39m(\u001b[38;5;28mself\u001b[39m,param):\n\u001b[0;32m      6\u001b[0m     \u001b[38;5;28mself\u001b[39m\u001b[38;5;241m.\u001b[39mb1\u001b[38;5;241m=\u001b[39mparam\n\u001b[1;32m----> 8\u001b[0m     obj\u001b[38;5;241m=\u001b[39m\u001b[43mB\u001b[49m\u001b[43m(\u001b[49m\u001b[38;5;241;43m100\u001b[39;49m\u001b[43m)\u001b[49m\n\u001b[0;32m      9\u001b[0m     \u001b[38;5;28mprint\u001b[39m(\u001b[38;5;124m\"\u001b[39m\u001b[38;5;132;01m%d\u001b[39;00m\u001b[38;5;124m \u001b[39m\u001b[38;5;132;01m%d\u001b[39;00m\u001b[38;5;124m\"\u001b[39m \u001b[38;5;241m%\u001b[39m(obj\u001b[38;5;241m.\u001b[39ma1,obj\u001b[38;5;241m.\u001b[39mb1))\n",
      "\u001b[1;31mRecursionError\u001b[0m: maximum recursion depth exceeded"
     ]
    }
   ],
   "source": [
    "class A:\n",
    "    def __init__(self,param):\n",
    "        self.a1=param\n",
    "class B(A):\n",
    "    def __init__(self,param):\n",
    "        self.b1=param\n",
    "        \n",
    "        obj=B(100)\n",
    "        print(\"%d %d\" %(obj.a1,obj.b1))\n",
    "        \n",
    "        \n",
    "B(1)"
   ]
  },
  {
   "cell_type": "code",
   "execution_count": 47,
   "id": "40a60734",
   "metadata": {},
   "outputs": [
    {
     "name": "stdout",
     "output_type": "stream",
     "text": [
      "i in class a is  60\n",
      "in class b is  60\n"
     ]
    }
   ],
   "source": [
    "class A:\n",
    "    def __init__(self):\n",
    "        self.calculate(30)\n",
    "        print('i in class a is ',self.i)\n",
    "    def calculate(self,i):\n",
    "        self.i=2*i\n",
    "        \n",
    "class B(A):\n",
    "    def __init__(self):\n",
    "        super().__init__()\n",
    "        print('in class b is ',self.i)\n",
    "    def calc(self,i):\n",
    "        self.i=3*i\n",
    "b=B()"
   ]
  },
  {
   "cell_type": "code",
   "execution_count": 44,
   "id": "adce8479",
   "metadata": {},
   "outputs": [
    {
     "name": "stdout",
     "output_type": "stream",
     "text": [
      "19 -12\n",
      "35 -19\n",
      "46 -35\n",
      "16 -9\n",
      "8 8.0\n",
      "19 -8\n",
      "7 3.5\n",
      "23 -7\n",
      "34 -23\n"
     ]
    }
   ],
   "source": [
    "i=[12,9,14]\n",
    "k=[7,16,11]\n",
    "for j in i[:]:\n",
    "    for m in k[:]:\n",
    "        if (j%m ==0):\n",
    "            j=j//2\n",
    "            m=m/2\n",
    "            print(j,m)\n",
    "        else:\n",
    "            j=j+m\n",
    "            m=m-j\n",
    "            print(j,m)"
   ]
  },
  {
   "cell_type": "code",
   "execution_count": 46,
   "id": "d9a171d7",
   "metadata": {},
   "outputs": [
    {
     "name": "stdout",
     "output_type": "stream",
     "text": [
      "4\n"
     ]
    }
   ],
   "source": [
    "class A:\n",
    "    def __init__(self,i):\n",
    "        self.i=i\n",
    "        i=44\n",
    "a=A(4)\n",
    "\n",
    "print(a.i)\n",
    "    "
   ]
  },
  {
   "cell_type": "code",
   "execution_count": 48,
   "id": "656cd347",
   "metadata": {},
   "outputs": [],
   "source": [
    "def abc(val,y=[]):\n",
    "    y.append(val)\n",
    "    return y"
   ]
  },
  {
   "cell_type": "code",
   "execution_count": 49,
   "id": "522256db",
   "metadata": {},
   "outputs": [
    {
     "data": {
      "text/plain": [
       "[3]"
      ]
     },
     "execution_count": 49,
     "metadata": {},
     "output_type": "execute_result"
    }
   ],
   "source": [
    "abc(3)"
   ]
  },
  {
   "cell_type": "code",
   "execution_count": 50,
   "id": "ba9e2efa",
   "metadata": {},
   "outputs": [
    {
     "data": {
      "text/plain": [
       "[1, 2, 4]"
      ]
     },
     "execution_count": 50,
     "metadata": {},
     "output_type": "execute_result"
    }
   ],
   "source": [
    "abc(4,[1,2])"
   ]
  },
  {
   "cell_type": "code",
   "execution_count": 51,
   "id": "e2a433ba",
   "metadata": {},
   "outputs": [
    {
     "data": {
      "text/plain": [
       "[3, 10]"
      ]
     },
     "execution_count": 51,
     "metadata": {},
     "output_type": "execute_result"
    }
   ],
   "source": [
    "abc(10)"
   ]
  },
  {
   "cell_type": "code",
   "execution_count": 52,
   "id": "fccd4c5e",
   "metadata": {},
   "outputs": [
    {
     "ename": "SyntaxError",
     "evalue": "expected 'except' or 'finally' block (3447328341.py, line 5)",
     "output_type": "error",
     "traceback": [
      "\u001b[1;36m  Cell \u001b[1;32mIn[52], line 5\u001b[1;36m\u001b[0m\n\u001b[1;33m    else:\u001b[0m\n\u001b[1;37m    ^\u001b[0m\n\u001b[1;31mSyntaxError\u001b[0m\u001b[1;31m:\u001b[0m expected 'except' or 'finally' block\n"
     ]
    }
   ],
   "source": [
    "try:\n",
    "    fh=open('openfile','w')\n",
    "    fh.write('Write to file')\n",
    "    \n",
    "else:\n",
    "    print('else')\n",
    "except:\n",
    "    print('Exc')\n",
    "finally:\n",
    "    print('final')\n",
    "    fh.close"
   ]
  },
  {
   "cell_type": "code",
   "execution_count": 56,
   "id": "730d1881",
   "metadata": {},
   "outputs": [
    {
     "name": "stdout",
     "output_type": "stream",
     "text": [
      "STRALIA\n"
     ]
    }
   ],
   "source": [
    "def c(*abc):\n",
    "    if len(abc)==1:\n",
    "        item=abc[0]\n",
    "        def f(obj):\n",
    "            return obj[item]\n",
    "    else:\n",
    "        def f(obj):\n",
    "            return tuple(obj[item] for item in abc)\n",
    "    return f\n",
    "selection=[]\n",
    "selection= c(slice(2,None))('AUSTRALIA')\n",
    "print(selection)"
   ]
  },
  {
   "cell_type": "code",
   "execution_count": 57,
   "id": "a3af252e",
   "metadata": {},
   "outputs": [
    {
     "data": {
      "text/plain": [
       "[0, 1, 2, 3, 4]"
      ]
     },
     "execution_count": 57,
     "metadata": {},
     "output_type": "execute_result"
    }
   ],
   "source": [
    "[i**+1 for i in range(5)]"
   ]
  },
  {
   "cell_type": "code",
   "execution_count": 58,
   "id": "e18a609d",
   "metadata": {},
   "outputs": [
    {
     "name": "stdout",
     "output_type": "stream",
     "text": [
      "xxxx\n",
      "x\n",
      "xxxx\n",
      "x\n",
      "xxxx\n"
     ]
    }
   ],
   "source": [
    "for i in range(1,6):\n",
    "    if i%4==0:\n",
    "        print('x')\n",
    "    elif i%2==0:\n",
    "        print('x')\n",
    "    else:\n",
    "        print('xxxx')"
   ]
  },
  {
   "cell_type": "code",
   "execution_count": null,
   "id": "445a3c2d",
   "metadata": {},
   "outputs": [],
   "source": [
    "def fac(N):\n",
    "    if N==1:\n",
    "        return N\n",
    "    else:\n",
    "        return N*f"
   ]
  }
 ],
 "metadata": {
  "kernelspec": {
   "display_name": "Python 3 (ipykernel)",
   "language": "python",
   "name": "python3"
  },
  "language_info": {
   "codemirror_mode": {
    "name": "ipython",
    "version": 3
   },
   "file_extension": ".py",
   "mimetype": "text/x-python",
   "name": "python",
   "nbconvert_exporter": "python",
   "pygments_lexer": "ipython3",
   "version": "3.10.9"
  }
 },
 "nbformat": 4,
 "nbformat_minor": 5
}
