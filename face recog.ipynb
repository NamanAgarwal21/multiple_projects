{
 "cells": [
  {
   "cell_type": "code",
   "execution_count": 1,
   "id": "ec015945",
   "metadata": {},
   "outputs": [
    {
     "name": "stdout",
     "output_type": "stream",
     "text": [
      "Collecting face_recognitionNote: you may need to restart the kernel to use updated packages.\n",
      "\n",
      "  Downloading face_recognition-1.3.0-py2.py3-none-any.whl (15 kB)\n",
      "Collecting dlib>=19.7\n",
      "  Downloading dlib-19.24.2.tar.gz (11.8 MB)\n",
      "     ---------------------------------------- 11.8/11.8 MB 2.3 MB/s eta 0:00:00\n",
      "  Installing build dependencies: started\n",
      "  Installing build dependencies: finished with status 'done'\n",
      "  Getting requirements to build wheel: started\n",
      "  Getting requirements to build wheel: finished with status 'done'\n",
      "  Preparing metadata (pyproject.toml): started\n",
      "  Preparing metadata (pyproject.toml): finished with status 'done'\n",
      "Requirement already satisfied: Pillow in c:\\users\\kripa\\anaconda3\\lib\\site-packages (from face_recognition) (9.4.0)\n",
      "Requirement already satisfied: Click>=6.0 in c:\\users\\kripa\\anaconda3\\lib\\site-packages (from face_recognition) (8.0.4)\n",
      "Collecting face-recognition-models>=0.3.0\n",
      "  Downloading face_recognition_models-0.3.0.tar.gz (100.1 MB)\n",
      "     -------------------------------------- 100.1/100.1 MB 1.8 MB/s eta 0:00:00\n",
      "  Preparing metadata (setup.py): started\n",
      "  Preparing metadata (setup.py): finished with status 'done'\n",
      "Requirement already satisfied: numpy in c:\\users\\kripa\\anaconda3\\lib\\site-packages (from face_recognition) (1.23.5)\n",
      "Requirement already satisfied: colorama in c:\\users\\kripa\\anaconda3\\lib\\site-packages (from Click>=6.0->face_recognition) (0.4.6)\n",
      "Building wheels for collected packages: dlib, face-recognition-models\n",
      "  Building wheel for dlib (pyproject.toml): started\n",
      "  Building wheel for dlib (pyproject.toml): still running...\n",
      "  Building wheel for dlib (pyproject.toml): still running...\n",
      "  Building wheel for dlib (pyproject.toml): still running...\n",
      "  Building wheel for dlib (pyproject.toml): still running...\n",
      "  Building wheel for dlib (pyproject.toml): still running...\n",
      "  Building wheel for dlib (pyproject.toml): still running...\n",
      "  Building wheel for dlib (pyproject.toml): still running...\n",
      "  Building wheel for dlib (pyproject.toml): finished with status 'done'\n",
      "  Created wheel for dlib: filename=dlib-19.24.2-cp310-cp310-win_amd64.whl size=2835523 sha256=06e37f7724ac0ba286b1734b8b591500ee1e1dd949280b103bf78320bbefce79\n",
      "  Stored in directory: c:\\users\\kripa\\appdata\\local\\pip\\cache\\wheels\\bc\\19\\6e\\7461e0584c10c486b31b7d204a591d5e35812c13901ae93c24\n",
      "  Building wheel for face-recognition-models (setup.py): started\n",
      "  Building wheel for face-recognition-models (setup.py): finished with status 'done'\n",
      "  Created wheel for face-recognition-models: filename=face_recognition_models-0.3.0-py2.py3-none-any.whl size=100566184 sha256=08154d7358323385cccc06a95196e95ff8f5e3a4c5c1cd08ece8f1e496dab6b8\n",
      "  Stored in directory: c:\\users\\kripa\\appdata\\local\\pip\\cache\\wheels\\3a\\81\\70\\bb23245d63de9e0f53fc67dc6f30d871d443521aa026808210\n",
      "Successfully built dlib face-recognition-models\n",
      "Installing collected packages: face-recognition-models, dlib, face_recognition\n",
      "Successfully installed dlib-19.24.2 face-recognition-models-0.3.0 face_recognition-1.3.0\n"
     ]
    }
   ],
   "source": [
    "pip install face_recognition"
   ]
  },
  {
   "cell_type": "code",
   "execution_count": 2,
   "id": "505ec9e0",
   "metadata": {},
   "outputs": [
    {
     "name": "stdout",
     "output_type": "stream",
     "text": [
      "Collecting cmake\n",
      "  Using cached cmake-3.28.0-py2.py3-none-win_amd64.whl (35.8 MB)\n",
      "Installing collected packages: cmake\n",
      "Successfully installed cmake-3.28.0\n",
      "Note: you may need to restart the kernel to use updated packages.\n"
     ]
    }
   ],
   "source": [
    "pip install cmake"
   ]
  },
  {
   "cell_type": "code",
   "execution_count": 1,
   "id": "09a09eb8",
   "metadata": {},
   "outputs": [],
   "source": [
    "import face_recognition\n",
    "import cv2\n",
    "import datetime as datetime\n",
    "import numpy as np\n",
    "import csv"
   ]
  },
  {
   "cell_type": "code",
   "execution_count": 2,
   "id": "0fd46712",
   "metadata": {},
   "outputs": [],
   "source": [
    "video_capture=cv2.VideoCapture(0)"
   ]
  },
  {
   "cell_type": "code",
   "execution_count": 3,
   "id": "3d084797",
   "metadata": {},
   "outputs": [],
   "source": [
    "naman_image=face_recognition.load_image_file('naman.jpg')\n",
    "naman_encoding=face_recognition.face_encodings(naman_image)[0]\n",
    "muumy_image=face_recognition.load_image_file('mummy.jpg')\n",
    "mummy_encoding=face_recognition.face_encodings(muumy_image)[0]"
   ]
  },
  {
   "cell_type": "code",
   "execution_count": 4,
   "id": "9b2b4d0d",
   "metadata": {},
   "outputs": [],
   "source": [
    "known_face_name=['Naman','Mummy']\n",
    "known_face_encoding=[naman_encoding,mummy_encoding]"
   ]
  },
  {
   "cell_type": "code",
   "execution_count": 5,
   "id": "b24462a4",
   "metadata": {},
   "outputs": [],
   "source": [
    "name=known_face_name.copy()\n",
    "\n",
    "face_locations=[]\n",
    "face_encodings=[]"
   ]
  },
  {
   "cell_type": "code",
   "execution_count": null,
   "id": "7f90cace",
   "metadata": {},
   "outputs": [],
   "source": [
    "while True:\n",
    "    _,frame=video_capture.read()\n",
    "    small_frame=cv2.resize(frame,(0,0),fx=0.25,fy=0.25)\n",
    "    rgb_color_frame=cv2.cvtColor(small_frame,cv2.COLOR_BGR2RGB)\n",
    "    \n",
    "    face_locations=face_recognition.face_locations(rgb_color_frame)\n",
    "    face_encodings=face_recognition.face_encodings(rgb_color_frame,face_locations)\n",
    "    for faces in face_encodings:\n",
    "        matches=face_recognition.compare_faces(known_face_encoding,faces)\n",
    "        face_distance=face_recognition.face_distance(known_face_encoding,faces)\n",
    "        best_match=np.argmin(face_distance)\n",
    "        \n",
    "        if matches[best_match]:\n",
    "            name=known_face_name[best_match]\n",
    "        \n",
    "        if name in known_face_name:\n",
    "            font=cv2.FONT_HERSHEY_COMPLEX\n",
    "            botom=(10,100)\n",
    "            fontColor=(255,0,0)\n",
    "            fontScale=1.5\n",
    "            thickness=3\n",
    "            linetype=2\n",
    "            cv2.putText(frame,name+\" Present\",botom,font,fontScale,fontColor,thickness,linetype)\n",
    "            \n",
    "            \n",
    "    cv2.imshow(\"attending\",frame)\n",
    "    if cv2.waitKey(1) & 0xFF == ord(\"q\"):\n",
    "        break\n",
    "        \n",
    "#     video_capture.release()\n",
    "#     cv2.destroyAllWindows()\n",
    "    "
   ]
  }
 ],
 "metadata": {
  "kernelspec": {
   "display_name": "Python 3 (ipykernel)",
   "language": "python",
   "name": "python3"
  },
  "language_info": {
   "codemirror_mode": {
    "name": "ipython",
    "version": 3
   },
   "file_extension": ".py",
   "mimetype": "text/x-python",
   "name": "python",
   "nbconvert_exporter": "python",
   "pygments_lexer": "ipython3",
   "version": "3.10.9"
  }
 },
 "nbformat": 4,
 "nbformat_minor": 5
}
