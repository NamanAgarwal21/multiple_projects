{
 "cells": [
  {
   "cell_type": "code",
   "execution_count": 1,
   "id": "3054dcd2",
   "metadata": {},
   "outputs": [
    {
     "name": "stdout",
     "output_type": "stream",
     "text": [
      "Collecting qrcodeNote: you may need to restart the kernel to use updated packages.\n",
      "\n",
      "  Downloading qrcode-7.4.2-py3-none-any.whl (46 kB)\n",
      "     ---------------------------------------- 46.2/46.2 kB 2.4 MB/s eta 0:00:00\n",
      "Requirement already satisfied: colorama in c:\\users\\kripa\\anaconda3\\lib\\site-packages (from qrcode) (0.4.6)\n",
      "Requirement already satisfied: typing-extensions in c:\\users\\kripa\\anaconda3\\lib\\site-packages (from qrcode) (4.4.0)\n",
      "Collecting pypng\n",
      "  Downloading pypng-0.20220715.0-py3-none-any.whl (58 kB)\n",
      "     ---------------------------------------- 58.1/58.1 kB 3.0 MB/s eta 0:00:00\n",
      "Installing collected packages: pypng, qrcode\n",
      "Successfully installed pypng-0.20220715.0 qrcode-7.4.2\n"
     ]
    }
   ],
   "source": [
    "pip install qrcode"
   ]
  },
  {
   "cell_type": "code",
   "execution_count": 2,
   "id": "43aa6e91",
   "metadata": {},
   "outputs": [
    {
     "name": "stdout",
     "output_type": "stream",
     "text": [
      "Requirement already satisfied: Pillow in c:\\users\\kripa\\anaconda3\\lib\\site-packages (9.4.0)\n",
      "Note: you may need to restart the kernel to use updated packages.\n"
     ]
    }
   ],
   "source": [
    "pip install Pillow"
   ]
  },
  {
   "cell_type": "code",
   "execution_count": 5,
   "id": "9f1c6bc4",
   "metadata": {},
   "outputs": [],
   "source": [
    "import qrcode\n",
    "\n",
    "class MyQR:\n",
    "    def __init__(self,size,padding):\n",
    "        self.qr= qrcode.QRCode(box_size=size,border=padding)\n",
    "        \n",
    "    def create_qr(self,file_name,fg,bg):\n",
    "        user_input=input('Enter text: ')\n",
    "        \n",
    "        try:\n",
    "            self.qr.add_data(user_input)\n",
    "            qr_image=self.qr.make_image(fill_color=fg, back_color=bg)\n",
    "            qr_image.save(file_name)\n",
    "            \n",
    "            print('Succesfully created! ')\n",
    "            \n",
    "        except Exception as e:\n",
    "            print('Error ',e)\n",
    "            \n",
    "        \n",
    "def main():\n",
    "    myqr=MyQR(size=30,padding=2)\n",
    "    myqr.create_qr('qr.png',\n",
    "                  fg='black',bg='white')\n",
    "    "
   ]
  },
  {
   "cell_type": "code",
   "execution_count": 6,
   "id": "7f0145f3",
   "metadata": {},
   "outputs": [
    {
     "name": "stdout",
     "output_type": "stream",
     "text": [
      "Enter text: namanagarwal407@okhdfcbank\n",
      "Succesfully created! \n"
     ]
    }
   ],
   "source": [
    "if __name__=='__main__':\n",
    "    main()"
   ]
  }
 ],
 "metadata": {
  "kernelspec": {
   "display_name": "Python 3 (ipykernel)",
   "language": "python",
   "name": "python3"
  },
  "language_info": {
   "codemirror_mode": {
    "name": "ipython",
    "version": 3
   },
   "file_extension": ".py",
   "mimetype": "text/x-python",
   "name": "python",
   "nbconvert_exporter": "python",
   "pygments_lexer": "ipython3",
   "version": "3.10.9"
  }
 },
 "nbformat": 4,
 "nbformat_minor": 5
}
