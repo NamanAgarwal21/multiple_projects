{
 "cells": [
  {
   "cell_type": "code",
   "execution_count": 5,
   "id": "cd854680",
   "metadata": {},
   "outputs": [
    {
     "name": "stdout",
     "output_type": "stream",
     "text": [
      "Collecting customtkinter\n",
      "  Downloading customtkinter-5.2.2-py3-none-any.whl (296 kB)\n",
      "     -------------------------------------- 296.1/296.1 kB 6.2 MB/s eta 0:00:00\n",
      "Collecting darkdetect\n",
      "  Downloading darkdetect-0.8.0-py3-none-any.whl (9.0 kB)\n",
      "Requirement already satisfied: packaging in c:\\users\\kripa\\anaconda3\\lib\\site-packages (from customtkinter) (22.0)\n",
      "Installing collected packages: darkdetect, customtkinter\n",
      "Successfully installed customtkinter-5.2.2 darkdetect-0.8.0\n",
      "Note: you may need to restart the kernel to use updated packages.\n"
     ]
    }
   ],
   "source": [
    "pip install customtkinter"
   ]
  },
  {
   "cell_type": "code",
   "execution_count": 1,
   "id": "12e95785",
   "metadata": {},
   "outputs": [],
   "source": [
    "import tkinter"
   ]
  },
  {
   "cell_type": "code",
   "execution_count": 1,
   "id": "97d6689f",
   "metadata": {},
   "outputs": [],
   "source": [
    "import customtkinter as ctk"
   ]
  },
  {
   "cell_type": "code",
   "execution_count": 4,
   "id": "83869a6b",
   "metadata": {},
   "outputs": [],
   "source": [
    "class TaxCalculator:\n",
    "    def __init__(self):\n",
    "        self.window=ctk.CTk()\n",
    "        self.window.title('Tax Calculator')\n",
    "        self.window.geometry('280x200')\n",
    "        self.window.resizable(False,False)\n",
    "        \n",
    "        \n",
    "        self.padding={'padx':20,'pady':10}\n",
    "        \n",
    "        self.income_label=ctk.CTkLabel(self.window,text='Income:')\n",
    "        self.income_label.grid(row=0,column=0,**self.padding)\n",
    "        self.income_entry=ctk.CTkEntry(self.window)\n",
    "        self.income_entry.grid(row=0,column=1,**self.padding)\n",
    "        \n",
    "        self.tax_label=ctk.CTkLabel(self.window,text='Percent:')\n",
    "        self.tax_label.grid(row=1,column=0,**self.padding)\n",
    "        self.tax_entry=ctk.CTkEntry(self.window)\n",
    "        self.tax_entry.grid(row=1,column=1,**self.padding)\n",
    "        \n",
    "        self.result_label=ctk.CTkLabel(self.window,text='Tax:')\n",
    "        self.result_label.grid(row=2,column=0,**self.padding)\n",
    "        self.result_entry=ctk.CTkEntry(self.window)\n",
    "        self.result_entry.insert(0,'0')\n",
    "        self.result_entry.grid(row=2,column=1,**self.padding)\n",
    "        \n",
    "        self.calculate_button=ctk.CTkButton(self.window,text=\"Calculate\",command=self.calculate_tax)\n",
    "        self.calculate_button.grid(row=3,column=1,**self.padding)\n",
    "        \n",
    "    def update_result(self,text):\n",
    "        self.result_entry.delete(0,ctk.END)\n",
    "        self.result_entry.insert(0,text)\n",
    "        \n",
    "    def calculate_tax(self):\n",
    "        try:\n",
    "            income=float(self.income_entry.get())\n",
    "            tax_rate=float(self.tax_entry.get())\n",
    "            self.update_result(f'{income*(tax_rate/100):,.2f}')\n",
    "        except:\n",
    "            self.update_result('Invalid')\n",
    "        \n",
    "    def run(self):\n",
    "        self.window.mainloop()\n",
    "            "
   ]
  },
  {
   "cell_type": "code",
   "execution_count": 5,
   "id": "5708252d",
   "metadata": {},
   "outputs": [],
   "source": [
    "if __name__=='__main__':\n",
    "    tc=TaxCalculator()\n",
    "    tc.run()"
   ]
  }
 ],
 "metadata": {
  "kernelspec": {
   "display_name": "Python 3 (ipykernel)",
   "language": "python",
   "name": "python3"
  },
  "language_info": {
   "codemirror_mode": {
    "name": "ipython",
    "version": 3
   },
   "file_extension": ".py",
   "mimetype": "text/x-python",
   "name": "python",
   "nbconvert_exporter": "python",
   "pygments_lexer": "ipython3",
   "version": "3.10.9"
  }
 },
 "nbformat": 4,
 "nbformat_minor": 5
}
