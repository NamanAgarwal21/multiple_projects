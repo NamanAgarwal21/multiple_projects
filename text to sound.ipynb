{
 "cells": [
  {
   "cell_type": "code",
   "execution_count": 3,
   "id": "cc8174b9",
   "metadata": {},
   "outputs": [
    {
     "name": "stdout",
     "output_type": "stream",
     "text": [
      "Collecting gTTS\n",
      "  Downloading gTTS-2.4.0-py3-none-any.whl (29 kB)\n",
      "Requirement already satisfied: click<8.2,>=7.1 in c:\\users\\kripa\\anaconda3\\lib\\site-packages (from gTTS) (8.0.4)\n",
      "Requirement already satisfied: requests<3,>=2.27 in c:\\users\\kripa\\anaconda3\\lib\\site-packages (from gTTS) (2.28.1)\n",
      "Requirement already satisfied: colorama in c:\\users\\kripa\\anaconda3\\lib\\site-packages (from click<8.2,>=7.1->gTTS) (0.4.6)\n",
      "Requirement already satisfied: idna<4,>=2.5 in c:\\users\\kripa\\anaconda3\\lib\\site-packages (from requests<3,>=2.27->gTTS) (3.4)\n",
      "Requirement already satisfied: charset-normalizer<3,>=2 in c:\\users\\kripa\\anaconda3\\lib\\site-packages (from requests<3,>=2.27->gTTS) (2.0.4)\n",
      "Requirement already satisfied: certifi>=2017.4.17 in c:\\users\\kripa\\anaconda3\\lib\\site-packages (from requests<3,>=2.27->gTTS) (2022.12.7)\n",
      "Requirement already satisfied: urllib3<1.27,>=1.21.1 in c:\\users\\kripa\\anaconda3\\lib\\site-packages (from requests<3,>=2.27->gTTS) (1.26.14)\n",
      "Installing collected packages: gTTS\n",
      "Successfully installed gTTS-2.4.0\n",
      "Note: you may need to restart the kernel to use updated packages.\n"
     ]
    }
   ],
   "source": [
    "pip install gTTS  "
   ]
  },
  {
   "cell_type": "code",
   "execution_count": 4,
   "id": "faf7cab0",
   "metadata": {},
   "outputs": [
    {
     "name": "stdout",
     "output_type": "stream",
     "text": [
      "Collecting playsound\n",
      "  Downloading playsound-1.3.0.tar.gz (7.7 kB)\n",
      "  Preparing metadata (setup.py): started\n",
      "  Preparing metadata (setup.py): finished with status 'done'\n",
      "Building wheels for collected packages: playsound\n",
      "  Building wheel for playsound (setup.py): started\n",
      "  Building wheel for playsound (setup.py): finished with status 'done'\n",
      "  Created wheel for playsound: filename=playsound-1.3.0-py3-none-any.whl size=7046 sha256=e4159cd4248601e66aff7ee47eae6cff0f8d37cc19185dd666c3e53fe6c5b66f\n",
      "  Stored in directory: c:\\users\\kripa\\appdata\\local\\pip\\cache\\wheels\\24\\f9\\b3\\2ed63b5d2a91bbf7da060acdc294c1335db338ec81f0c76e1b\n",
      "Successfully built playsound\n",
      "Installing collected packages: playsound\n",
      "Successfully installed playsound-1.3.0\n",
      "Note: you may need to restart the kernel to use updated packages.\n"
     ]
    }
   ],
   "source": [
    "pip install playsound "
   ]
  },
  {
   "cell_type": "code",
   "execution_count": 5,
   "id": "f868e29c",
   "metadata": {},
   "outputs": [
    {
     "name": "stdout",
     "output_type": "stream",
     "text": [
      "Collecting pyttsx3\n",
      "  Downloading pyttsx3-2.90-py3-none-any.whl (39 kB)\n",
      "Collecting pypiwin32\n",
      "  Downloading pypiwin32-223-py3-none-any.whl (1.7 kB)\n",
      "Collecting comtypes\n",
      "  Downloading comtypes-1.2.0-py2.py3-none-any.whl (184 kB)\n",
      "     -------------------------------------- 184.3/184.3 kB 1.4 MB/s eta 0:00:00\n",
      "Requirement already satisfied: pywin32 in c:\\users\\kripa\\anaconda3\\lib\\site-packages (from pyttsx3) (305.1)\n",
      "Installing collected packages: comtypes, pypiwin32, pyttsx3\n",
      "Successfully installed comtypes-1.2.0 pypiwin32-223 pyttsx3-2.90\n",
      "Note: you may need to restart the kernel to use updated packages.\n"
     ]
    }
   ],
   "source": [
    "pip install pyttsx3"
   ]
  },
  {
   "cell_type": "code",
   "execution_count": 6,
   "id": "4ffd428c",
   "metadata": {},
   "outputs": [],
   "source": [
    "# Import the gTTS module for text  \n",
    "# to speech conversion  \n",
    "from gtts import gTTS  \n",
    "  \n",
    "# This module is imported so that we can  \n",
    "# play the converted audio  \n",
    "from playsound import playsound  \n",
    "  \n",
    "# It is a text value that we want to convert to audio  \n",
    "text_val = 'All the best for your exam.'  \n",
    "  \n",
    "# Here are converting in English Language  \n",
    "language = 'en'  \n",
    "  \n",
    "# Passing the text and language to the engine,  \n",
    "# here we have assign slow=False. Which denotes  \n",
    "# the module that the transformed audio should  \n",
    "# have a high speed  \n",
    "obj = gTTS(text=text_val, lang=language, slow=False)  \n",
    "  \n",
    "#Here we are saving the transformed audio in a mp3 file named  \n",
    "# exam.mp3  \n",
    "obj.save(\"exam.mp3\")  \n",
    "  \n",
    "# Play the exam.mp3 file  \n",
    "playsound(\"exam.mp3\")  "
   ]
  },
  {
   "cell_type": "code",
   "execution_count": 8,
   "id": "3d8963ba",
   "metadata": {},
   "outputs": [],
   "source": [
    "import win32com.client as win32com"
   ]
  },
  {
   "cell_type": "code",
   "execution_count": 10,
   "id": "7fb282ac",
   "metadata": {},
   "outputs": [
    {
     "data": {
      "text/plain": [
       "1"
      ]
     },
     "execution_count": 10,
     "metadata": {},
     "output_type": "execute_result"
    }
   ],
   "source": [
    "speak =win32com.Dispatch('SAPI.SpVoice')\n",
    "text='Converting text to speech'\n",
    "speak.Speak(text)"
   ]
  }
 ],
 "metadata": {
  "kernelspec": {
   "display_name": "Python 3 (ipykernel)",
   "language": "python",
   "name": "python3"
  },
  "language_info": {
   "codemirror_mode": {
    "name": "ipython",
    "version": 3
   },
   "file_extension": ".py",
   "mimetype": "text/x-python",
   "name": "python",
   "nbconvert_exporter": "python",
   "pygments_lexer": "ipython3",
   "version": "3.10.9"
  }
 },
 "nbformat": 4,
 "nbformat_minor": 5
}
