{
 "cells": [
  {
   "cell_type": "code",
   "execution_count": 1,
   "id": "5ffcf0dd",
   "metadata": {},
   "outputs": [
    {
     "name": "stdout",
     "output_type": "stream",
     "text": [
      "Collecting fake_useragent\n",
      "  Downloading fake_useragent-1.4.0-py3-none-any.whl (15 kB)\n",
      "Installing collected packages: fake_useragent\n",
      "Successfully installed fake_useragent-1.4.0\n",
      "Note: you may need to restart the kernel to use updated packages.\n"
     ]
    }
   ],
   "source": [
    "pip install fake_useragent"
   ]
  },
  {
   "cell_type": "code",
   "execution_count": 3,
   "id": "c1c81b88",
   "metadata": {},
   "outputs": [],
   "source": [
    "import csv\n",
    "import requests\n",
    "from fake_useragent import UserAgent\n",
    "from http import HTTPStatus"
   ]
  },
  {
   "cell_type": "code",
   "execution_count": 13,
   "id": "5b4d4762",
   "metadata": {},
   "outputs": [],
   "source": [
    "def get_website(path):\n",
    "    websites=[]\n",
    "    with open (path ,'r') as file:\n",
    "        reader=csv.reader(file)\n",
    "        for row in reader:\n",
    "            print(row)\n",
    "            if 'https://' not in row[0] or 'http://' in row[0]:\n",
    "                websites.append(f'https://{row[0]}')\n",
    "            else:\n",
    "                websites.append(row[0])\n",
    "    return websites"
   ]
  },
  {
   "cell_type": "code",
   "execution_count": 14,
   "id": "01e5f0f7",
   "metadata": {},
   "outputs": [
    {
     "name": "stdout",
     "output_type": "stream",
     "text": [
      "['apple.com']\n",
      "['facebook.com']\n",
      "['youtube.com']\n",
      "['not_a_web_site.com']\n"
     ]
    },
    {
     "data": {
      "text/plain": [
       "['https://apple.com',\n",
       " 'https://facebook.com',\n",
       " 'https://youtube.com',\n",
       " 'https://not_a_web_site.com']"
      ]
     },
     "execution_count": 14,
     "metadata": {},
     "output_type": "execute_result"
    }
   ],
   "source": [
    "get_website('websites.csv')"
   ]
  },
  {
   "cell_type": "code",
   "execution_count": 27,
   "id": "581a13a6",
   "metadata": {},
   "outputs": [],
   "source": [
    "def get_user_agent():\n",
    "    ua=UserAgent()\n",
    "#     print(ua)\n",
    "    return ua.chrome"
   ]
  },
  {
   "cell_type": "code",
   "execution_count": 22,
   "id": "d226257e",
   "metadata": {},
   "outputs": [
    {
     "name": "stdout",
     "output_type": "stream",
     "text": [
      "<fake_useragent.fake.FakeUserAgent object at 0x00000159070C7610>\n"
     ]
    },
    {
     "data": {
      "text/plain": [
       "'Mozilla/5.0 (Macintosh; Intel Mac OS X 10_15_7) AppleWebKit/537.36 (KHTML, like Gecko) Chrome/114.0.0.0 Safari/537.36'"
      ]
     },
     "execution_count": 22,
     "metadata": {},
     "output_type": "execute_result"
    }
   ],
   "source": [
    "get_user_agent()"
   ]
  },
  {
   "cell_type": "code",
   "execution_count": 24,
   "id": "521c0ab1",
   "metadata": {},
   "outputs": [],
   "source": [
    "def get_status_desc(status_code):\n",
    "    for value in HTTPStatus:\n",
    "        if value== status_code:\n",
    "            desc=f'({value}{value.name}){value.description}'\n",
    "            return desc\n",
    "    return 'Unknown status'"
   ]
  },
  {
   "cell_type": "code",
   "execution_count": 25,
   "id": "308285b3",
   "metadata": {},
   "outputs": [],
   "source": [
    "def check_website(website,user_agent):\n",
    "    try:\n",
    "        code=requests.get(website,headers={'User-Agent':user_agent}).status_code\n",
    "        print(website,get_status_desc(code))\n",
    "    except:\n",
    "        print('c ould not get website ',website)"
   ]
  },
  {
   "cell_type": "code",
   "execution_count": null,
   "id": "de4e4d56",
   "metadata": {},
   "outputs": [],
   "source": []
  },
  {
   "cell_type": "code",
   "execution_count": 28,
   "id": "04c31179",
   "metadata": {},
   "outputs": [
    {
     "name": "stdout",
     "output_type": "stream",
     "text": [
      "['apple.com']\n",
      "['facebook.com']\n",
      "['youtube.com']\n",
      "['not_a_web_site.com']\n",
      "https://apple.com (200OK)Request fulfilled, document follows\n",
      "https://facebook.com (200OK)Request fulfilled, document follows\n",
      "https://youtube.com (200OK)Request fulfilled, document follows\n",
      "c ould not get website  https://not_a_web_site.com\n"
     ]
    }
   ],
   "source": [
    "sites=get_website('websites.csv')\n",
    "user_agent=get_user_agent()\n",
    "\n",
    "for site in sites:\n",
    "    check_website(site,user_agent)"
   ]
  },
  {
   "cell_type": "code",
   "execution_count": null,
   "id": "4e195bcb",
   "metadata": {},
   "outputs": [],
   "source": []
  },
  {
   "cell_type": "code",
   "execution_count": 32,
   "id": "a3dc707c",
   "metadata": {},
   "outputs": [],
   "source": [
    "def func():\n",
    "    x=1-2\n",
    "    return"
   ]
  },
  {
   "cell_type": "code",
   "execution_count": 34,
   "id": "3ca8c1ac",
   "metadata": {},
   "outputs": [],
   "source": [
    "func()"
   ]
  }
 ],
 "metadata": {
  "kernelspec": {
   "display_name": "Python 3 (ipykernel)",
   "language": "python",
   "name": "python3"
  },
  "language_info": {
   "codemirror_mode": {
    "name": "ipython",
    "version": 3
   },
   "file_extension": ".py",
   "mimetype": "text/x-python",
   "name": "python",
   "nbconvert_exporter": "python",
   "pygments_lexer": "ipython3",
   "version": "3.10.9"
  }
 },
 "nbformat": 4,
 "nbformat_minor": 5
}
